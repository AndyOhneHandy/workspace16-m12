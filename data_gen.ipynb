{
 "cells": [
  {
   "cell_type": "code",
   "execution_count": 580,
   "metadata": {},
   "outputs": [],
   "source": [
    "import random\n",
    "import pandas as pd\n",
    "import numpy as np\n",
    "import matplotlib.pyplot as plt"
   ]
  },
  {
   "cell_type": "code",
   "execution_count": 581,
   "metadata": {},
   "outputs": [],
   "source": [
    "def lin(currentno, skill, totalno):\n",
    "    return skill\n",
    "\n",
    "def inc(currentno, skill, totalno):\n",
    "    return skill * (0.85 + 0.3 * (currentno/totalno)**0.5)\n",
    "\n",
    "def dec(currentno, skill, totalno):\n",
    "    return skill * (1.15 - 0.3 * (currentno/totalno)**1.5)\n",
    "\n",
    "\n",
    "\n",
    "\n",
    "def create_pers_obs(subject_ID, number_obs, treatment, treatment_round, variance):\n",
    "    temp_df = pd.DataFrame()\n",
    "    temp_df[\"subjectID\"] = [subject_ID]*number_obs\n",
    "    temp_df[\"observationID\"] = [i for i in range(1,number_obs+1)]\n",
    "    skill = np.random.beta(2,2) * 0.5 + 0.25\n",
    "    temp_df[\"skill\"] = [skill]*number_obs\n",
    "    trend = random.choice([\"lin\", \"dec\", \"inc\"])\n",
    "    print(trend)\n",
    "\n",
    "    if trend == \"lin\":\n",
    "        tl = [lin(i, skill, number_obs) for i in temp_df[\"observationID\"]]\n",
    "    if trend == \"inc\":\n",
    "        tl = [inc(i, skill, number_obs) for i in temp_df[\"observationID\"]]\n",
    "    if trend == \"dec\":\n",
    "        tl = [dec(i, skill, number_obs) for i in temp_df[\"observationID\"]]\n",
    "\n",
    "    temp_df[\"trend\"] = tl\n",
    "\n",
    "    temp_df[\"variance_trend\"] = [min(max(0,(1+random.uniform(-variance,variance)) * i),1) for i in temp_df[\"trend\"]]\n",
    "\n",
    "\n",
    "    treatment_obs = treatment_round * 3\n",
    "    #if treatment\n",
    "\n",
    "\n",
    "    print(temp_df)\n",
    "    return temp_df"
   ]
  },
  {
   "cell_type": "code",
   "execution_count": 582,
   "metadata": {},
   "outputs": [
    {
     "name": "stdout",
     "output_type": "stream",
     "text": [
      "inc\n",
      "    subjectID  observationID     skill     trend  variance_trend\n",
      "0           2              1  0.461433  0.411795        0.419017\n",
      "1           2              2  0.461433  0.419904        0.433406\n",
      "2           2              3  0.461433  0.426126        0.440525\n",
      "3           2              4  0.461433  0.431372        0.442382\n",
      "4           2              5  0.461433  0.435993        0.423014\n",
      "5           2              6  0.461433  0.440171        0.462043\n",
      "6           2              7  0.461433  0.444013        0.455338\n",
      "7           2              8  0.461433  0.447590        0.443252\n",
      "8           2              9  0.461433  0.450948        0.436461\n",
      "9           2             10  0.461433  0.454125        0.471895\n",
      "10          2             11  0.461433  0.457147        0.439632\n",
      "11          2             12  0.461433  0.460034        0.457350\n",
      "12          2             13  0.461433  0.462803        0.448511\n",
      "13          2             14  0.461433  0.465468        0.475509\n",
      "14          2             15  0.461433  0.468039        0.453053\n",
      "15          2             16  0.461433  0.470525        0.476939\n",
      "16          2             17  0.461433  0.472935        0.486870\n",
      "17          2             18  0.461433  0.475276        0.468706\n",
      "18          2             19  0.461433  0.477552        0.470633\n",
      "19          2             20  0.461433  0.479768        0.483316\n",
      "20          2             21  0.461433  0.481930        0.472853\n",
      "21          2             22  0.461433  0.484042        0.499933\n",
      "22          2             23  0.461433  0.486105        0.502224\n",
      "23          2             24  0.461433  0.488125        0.509353\n",
      "24          2             25  0.461433  0.490102        0.472595\n",
      "25          2             26  0.461433  0.492041        0.479468\n",
      "26          2             27  0.461433  0.493942        0.478997\n",
      "27          2             28  0.461433  0.495809        0.499119\n",
      "28          2             29  0.461433  0.497643        0.504446\n",
      "29          2             30  0.461433  0.499445        0.501397\n",
      "30          2             31  0.461433  0.501217        0.512982\n",
      "31          2             32  0.461433  0.502962        0.505149\n",
      "32          2             33  0.461433  0.504679        0.523404\n",
      "33          2             34  0.461433  0.506370        0.508624\n",
      "34          2             35  0.461433  0.508036        0.509434\n",
      "35          2             36  0.461433  0.509679        0.490890\n",
      "36          2             37  0.461433  0.511299        0.495328\n",
      "37          2             38  0.461433  0.512898        0.507056\n",
      "38          2             39  0.461433  0.514476        0.513598\n",
      "39          2             40  0.461433  0.516033        0.504751\n",
      "40          2             41  0.461433  0.517571        0.518714\n",
      "41          2             42  0.461433  0.519091        0.495922\n",
      "42          2             43  0.461433  0.520592        0.525680\n",
      "43          2             44  0.461433  0.522076        0.542727\n",
      "44          2             45  0.461433  0.523544        0.516168\n",
      "45          2             46  0.461433  0.524995        0.518471\n",
      "46          2             47  0.461433  0.526430        0.526904\n",
      "47          2             48  0.461433  0.527851        0.547573\n",
      "48          2             49  0.461433  0.529256        0.529827\n",
      "49          2             50  0.461433  0.530647        0.555021\n"
     ]
    }
   ],
   "source": [
    "tempdf = create_pers_obs(2, 50, \"negative\",12,0.05)"
   ]
  },
  {
   "cell_type": "code",
   "execution_count": 588,
   "metadata": {},
   "outputs": [
    {
     "data": {
      "text/plain": [
       "<matplotlib.lines.Line2D at 0x7f7847fb8d90>"
      ]
     },
     "execution_count": 588,
     "metadata": {},
     "output_type": "execute_result"
    },
    {
     "data": {
      "image/png": "[encoded data removed]",
      "text/plain": [
       "<Figure size 432x288 with 1 Axes>"
      ]
     },
     "metadata": {
      "needs_background": "light"
     },
     "output_type": "display_data"
    }
   ],
   "source": [
    "plt.plot(tempdf[\"observationID\"], tempdf[\"variance_trend\"])\n",
    "plt.ylim(0,1)\n",
    "plt.axvline(20)"
   ]
  },
  {
   "cell_type": "code",
   "execution_count": 584,
   "metadata": {},
   "outputs": [
    {
     "name": "stdout",
     "output_type": "stream",
     "text": [
      "0.028764208461143956\n"
     ]
    }
   ],
   "source": [
    "middle = 0  # Middle value\n",
    "width = 0.05  # Width of the distribution\n",
    "\n",
    "random_number = random.uniform(middle - width, middle + width)\n",
    "\n",
    "print(random_number)"
   ]
  },
  {
   "cell_type": "code",
   "execution_count": null,
   "metadata": {},
   "outputs": [],
   "source": []
  }
 ],
 "metadata": {
  "kernelspec": {
   "display_name": "Python 3",
   "language": "python",
   "name": "python3"
  },
  "language_info": {
   "codemirror_mode": {
    "name": "ipython",
    "version": 3
   },
   "file_extension": ".py",
   "mimetype": "text/x-python",
   "name": "python",
   "nbconvert_exporter": "python",
   "pygments_lexer": "ipython3",
   "version": "3.8.10"
  },
  "orig_nbformat": 4
 },
 "nbformat": 4,
 "nbformat_minor": 2
}

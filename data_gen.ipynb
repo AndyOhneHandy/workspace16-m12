{
 "cells": [
  {
   "cell_type": "code",
   "execution_count": 1427,
   "metadata": {},
   "outputs": [],
   "source": [
    "import random\n",
    "import pandas as pd\n",
    "import numpy as np\n",
    "import matplotlib.pyplot as plt"
   ]
  },
  {
   "cell_type": "code",
   "execution_count": 1428,
   "metadata": {},
   "outputs": [],
   "source": [
    "def lin(currentno, skill, totalno):\n",
    "    return skill\n",
    "\n",
    "def inc(currentno, skill, totalno):\n",
    "    # return skill * (0.85 + 0.3 * (currentno/totalno)**0.5)\n",
    "    return skill + (((1-skill)**2) * (currentno/totalno)**0.5)\n",
    "\n",
    "def dec(currentno, skill, totalno):\n",
    "    #return skill * (1.15 - 0.3 * (currentno/totalno)**1.5)\n",
    "    return skill - (((1-skill)**2) * (currentno/totalno)**0.5)*0.5\n",
    "\n",
    "def testtype(liste, diminish_rounds):\n",
    "    return [i + i*(0.1* max(0,(1-(index/ min(len(liste), diminish_rounds*3))**2 )) ) for index, i in enumerate(liste)]\n",
    "\n",
    "\n",
    "def create_pers_obs(subject_ID, number_obs, treatment, treatment_round, variance):\n",
    "    temp_df = pd.DataFrame()\n",
    "    temp_df[\"subjectID\"] = [subject_ID]*number_obs\n",
    "    temp_df[\"observationID\"] = [i for i in range(1,number_obs+1)]\n",
    "    skill = np.random.beta(2,2) * 0.5 + 0.25\n",
    "    temp_df[\"skill\"] = [skill]*number_obs\n",
    "    trend = random.choice([\"lin\", \"dec\", \"inc\", \"lin\", \"lin\", \"inc\"])\n",
    "    print(trend)\n",
    "\n",
    "    if trend == \"lin\":\n",
    "        tl = [lin(i, skill, number_obs) for i in temp_df[\"observationID\"]]\n",
    "    if trend == \"inc\":\n",
    "        tl = [inc(i, skill, number_obs) for i in temp_df[\"observationID\"]]\n",
    "    if trend == \"dec\":\n",
    "        tl = [dec(i, skill, number_obs) for i in temp_df[\"observationID\"]]\n",
    "\n",
    "    temp_df[\"trend\"] = tl\n",
    "\n",
    "    temp_df[\"variance_trend\"] = [min(max(0,(1+random.uniform(-variance,variance)) * i),1) for i in temp_df[\"trend\"]]\n",
    "\n",
    "    feedbacklist = [i for i in temp_df[\"variance_trend\"]]\n",
    "    for i in range(2, len(feedbacklist),3):\n",
    "        avg = sum(feedbacklist[i-2:i+1]) / 3  # Calculate the average of current and two previous entries\n",
    "        feedbacklist[i-2:i+1] = [avg] * 3\n",
    "    temp_df[\"feedback\"] = feedbacklist\n",
    "\n",
    "\n",
    "    treatment_obs = treatment_round * 3\n",
    "    if treatment == \"negative\":\n",
    "        temp_df[\"treat_neg\"] = [1] * number_obs\n",
    "        temp_df[\"treat_pos\"] = [0] * number_obs\n",
    "        temp_df[\"post_treat\"] = [0]*treatment_obs + [1]*(number_obs-treatment_obs)\n",
    "\n",
    "    if treatment == \"positive\":\n",
    "        temp_df[\"treat_neg\"] = [0] * number_obs\n",
    "        temp_df[\"treat_pos\"] = [1] * number_obs\n",
    "        temp_df[\"post_treat\"] = [0]*treatment_obs + [1]*(number_obs-treatment_obs)\n",
    "    \n",
    "    if treatment == \"control\":\n",
    "        temp_df[\"treat_neg\"] = [0] * number_obs\n",
    "        temp_df[\"treat_pos\"] = [0] * number_obs\n",
    "        temp_df[\"post_treat\"] = [0]*treatment_obs + [1]*(number_obs-treatment_obs)\n",
    "\n",
    "    temp_df[\"quality\"] = [i for i in temp_df[\"variance_trend\"][:treatment_obs]] + testtype([i for i in temp_df[\"variance_trend\"][treatment_obs:]],7)\n",
    "\n",
    "   # print(temp_df)\n",
    "    return temp_df"
   ]
  },
  {
   "cell_type": "code",
   "execution_count": 1429,
   "metadata": {},
   "outputs": [
    {
     "name": "stdout",
     "output_type": "stream",
     "text": [
      "inc\n"
     ]
    }
   ],
   "source": [
    "tempdf = create_pers_obs(2, 120, \"negative\",20,0.05)\n",
    "\n"
   ]
  },
  {
   "cell_type": "code",
   "execution_count": 1430,
   "metadata": {},
   "outputs": [
    {
     "data": {
      "image/png": "[encoded data removed]",
      "text/plain": [
       "<Figure size 432x288 with 1 Axes>"
      ]
     },
     "metadata": {
      "needs_background": "light"
     },
     "output_type": "display_data"
    }
   ],
   "source": [
    "plt.plot(tempdf[\"observationID\"], tempdf[\"trend\"])\n",
    "plt.plot(tempdf[\"observationID\"], tempdf[\"quality\"], color = \"red\")\n",
    "plt.axvline(60, color = \"gray\")\n",
    "plt.ylim(0,1)\n",
    "\n",
    "\n",
    "plt.show()"
   ]
  }
 ],
 "metadata": {
  "kernelspec": {
   "display_name": "Python 3",
   "language": "python",
   "name": "python3"
  },
  "language_info": {
   "codemirror_mode": {
    "name": "ipython",
    "version": 3
   },
   "file_extension": ".py",
   "mimetype": "text/x-python",
   "name": "python",
   "nbconvert_exporter": "python",
   "pygments_lexer": "ipython3",
   "version": "3.8.10"
  },
  "orig_nbformat": 4
 },
 "nbformat": 4,
 "nbformat_minor": 2
}
